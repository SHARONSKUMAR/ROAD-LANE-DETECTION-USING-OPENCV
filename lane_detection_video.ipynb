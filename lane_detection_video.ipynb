{
 "cells": [
  {
   "cell_type": "code",
   "execution_count": 2,
   "metadata": {},
   "outputs": [],
   "source": [
    "import cv2\n",
    "import numpy as np"
   ]
  },
  {
   "cell_type": "code",
   "execution_count": 3,
   "metadata": {},
   "outputs": [],
   "source": [
    "def region_of_interest(img, vertices):\n",
    "    mask = np.zeros_like(img)\n",
    "    match_mask_color = 255\n",
    "    cv2.fillPoly(mask, vertices, match_mask_color)\n",
    "    masked_image = cv2.bitwise_and(img,mask)\n",
    "    return masked_image"
   ]
  },
  {
   "cell_type": "code",
   "execution_count": 4,
   "metadata": {},
   "outputs": [],
   "source": [
    "def draw_the_lines(img, lines):\n",
    "    img = np.copy(img)\n",
    "    blank_image = np.zeros((img.shape[0],img.shape[1],3),dtype = np.uint8)\n",
    "\n",
    "    for line in lines:\n",
    "        x1, y1, x2, y2 = line[0]\n",
    "        cv2.line(blank_image, (x1,y1), (x2,y2), (0,255,0), thickness=2)\n",
    "\n",
    "    img = cv2.addWeighted(img, 0.8, blank_image, 1, 0.0)   \n",
    "\n",
    "    return img     "
   ]
  },
  {
   "cell_type": "code",
   "execution_count": 9,
   "metadata": {},
   "outputs": [],
   "source": [
    "def process(image): \n",
    "       height = image.shape[0]\n",
    "       width = image.shape[1]\n",
    "\n",
    "       region_of_interest_vertices = [(0,height),(width/2,height/2),(width,height)]\n",
    "\n",
    "       gray_img = cv2.cvtColor(image,cv2.COLOR_BGR2GRAY)\n",
    "       canny_img = cv2.Canny(gray_img, 80,100)\n",
    "       cropped_img = region_of_interest(canny_img,np.array([region_of_interest_vertices],np.int32))\n",
    "\n",
    "       lines = cv2.HoughLinesP(cropped_img, rho=2, theta=np.pi/60, threshold=50, lines=np.array([]) ,minLineLength=10, maxLineGap=25)\n",
    "    \n",
    "       image_with_lines = draw_the_lines(image, lines)\n",
    "\n",
    "\n",
    "       return image_with_lines"
   ]
  },
  {
   "cell_type": "code",
   "execution_count": 10,
   "metadata": {},
   "outputs": [],
   "source": [
    "video = cv2.VideoCapture('/home/sharon/vs_code/project/lanes_clip.mp4')\n",
    "\n",
    "while True:\n",
    "    success,frame = video.read()\n",
    "\n",
    "    if not success: \n",
    "        break\n",
    " \n",
    "    frame = process(frame)\n",
    "    if frame is None:\n",
    "        break\n",
    "    cv2.imshow('frame',frame)\n",
    "    if cv2.waitKey(1) & 0XFF == 27:\n",
    "        break\n",
    "\n",
    "video.release()    \n",
    "cv2.destroyAllWindows()"
   ]
  }
 ],
 "metadata": {
  "kernelspec": {
   "display_name": "Python 3",
   "language": "python",
   "name": "python3"
  },
  "language_info": {
   "codemirror_mode": {
    "name": "ipython",
    "version": 3
   },
   "file_extension": ".py",
   "mimetype": "text/x-python",
   "name": "python",
   "nbconvert_exporter": "python",
   "pygments_lexer": "ipython3",
   "version": "3.8.10"
  },
  "orig_nbformat": 4
 },
 "nbformat": 4,
 "nbformat_minor": 2
}
